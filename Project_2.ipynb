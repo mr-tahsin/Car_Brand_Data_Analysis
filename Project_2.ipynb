{
 "cells": [
  {
   "cell_type": "code",
   "execution_count": 92,
   "id": "26aee8ac",
   "metadata": {},
   "outputs": [
    {
     "data": {
      "text/plain": [
       "50"
      ]
     },
     "execution_count": 92,
     "metadata": {},
     "output_type": "execute_result"
    }
   ],
   "source": [
    "import pandas as pd\n",
    "df = pd.read_csv('Weather Data.csv')\n",
    "# print(df)\n",
    "df['Weather'].nunique()"
   ]
  },
  {
   "cell_type": "markdown",
   "id": "9c9bd1db",
   "metadata": {},
   "source": [
    "# 1. Find all unique 'wind speed' values in data"
   ]
  },
  {
   "cell_type": "markdown",
   "id": "0b21036b",
   "metadata": {},
   "source": [
    "# 2. Find the number of times when the Weather is exactly clear"
   ]
  },
  {
   "cell_type": "markdown",
   "id": "4d35dfb5",
   "metadata": {},
   "source": [
    "# 3. Find the number of times when the 'wind speed is exactly 4km/h'"
   ]
  },
  {
   "cell_type": "markdown",
   "id": "51d86aae",
   "metadata": {},
   "source": [
    "# 4. Find the all null values from the dataset"
   ]
  },
  {
   "cell_type": "markdown",
   "id": "fbf31a6f",
   "metadata": {},
   "source": [
    "# 5. Rename the column Weather to Weather Condtion"
   ]
  },
  {
   "cell_type": "markdown",
   "id": "0756c048",
   "metadata": {},
   "source": [
    "# 6. What was the mean visibility?"
   ]
  },
  {
   "cell_type": "markdown",
   "id": "ac5fab65",
   "metadata": {},
   "source": [
    "# 7. What is the standard deviation of pressure in this data?"
   ]
  },
  {
   "cell_type": "markdown",
   "id": "f242efae",
   "metadata": {},
   "source": [
    "# 8. What is the variance of Relative Humidity in this data?"
   ]
  },
  {
   "cell_type": "markdown",
   "id": "04ab0dda",
   "metadata": {},
   "source": [
    "# 9. Find all instances when Snow was recorded?"
   ]
  },
  {
   "cell_type": "markdown",
   "id": "370906a5",
   "metadata": {},
   "source": [
    "# 10. Find all instances when Wind Speed is above 24 and Visibility is 25"
   ]
  },
  {
   "cell_type": "markdown",
   "id": "630bafa4",
   "metadata": {},
   "source": [
    "# 11. What is the mean value of each column against each weather condition?"
   ]
  },
  {
   "cell_type": "markdown",
   "id": "14db8fb8",
   "metadata": {},
   "source": [
    "# 12. What is the minimum and maximum value of each column against each weather condition?"
   ]
  },
  {
   "cell_type": "markdown",
   "id": "662fdac2",
   "metadata": {},
   "source": [
    "# 13. Show all the reports where weather condition is fog."
   ]
  },
  {
   "cell_type": "markdown",
   "id": "50cf22b0",
   "metadata": {},
   "source": [
    "# 14. Find all instances when 'Weather is clear' or 'Visibility is above 40'"
   ]
  },
  {
   "cell_type": "markdown",
   "id": "c2754677",
   "metadata": {},
   "source": [
    "# 15. Find all instances when:\n",
    "### 'weather is clear' and 'relative humidity is greater than 50' \n",
    "### or \n",
    "### 'visibitlity is above 40'"
   ]
  }
 ],
 "metadata": {
  "kernelspec": {
   "display_name": "Python 3 (ipykernel)",
   "language": "python",
   "name": "python3"
  },
  "language_info": {
   "codemirror_mode": {
    "name": "ipython",
    "version": 3
   },
   "file_extension": ".py",
   "mimetype": "text/x-python",
   "name": "python",
   "nbconvert_exporter": "python",
   "pygments_lexer": "ipython3",
   "version": "3.10.9"
  }
 },
 "nbformat": 4,
 "nbformat_minor": 5
}
